{
 "cells": [
  {
   "cell_type": "code",
   "execution_count": null,
   "metadata": {},
   "outputs": [],
   "source": [
    "# 0_dataset_download\n",
    "\n",
    "# download the isolated version of the dataset\n",
    "# include video files\n",
    "\n",
    "# webpage: \n",
    "# https://jefidev.github.io/lsfb-dataset/\n",
    "\n",
    "# reference:\n",
    "# J. Fink, B. Frénay, L. Meurant and A. Cleve, \"LSFB-CONT and LSFB-ISOL: Two New Datasets for Vision-Based \n",
    "# Sign Language Recognition,\" 2021 International Joint Conference on Neural Networks (IJCNN), Shenzhen, \n",
    "# China, 2021, pp. 1-8, doi: 10.1109/IJCNN52387.2021.9534336."
   ]
  },
  {
   "cell_type": "code",
   "execution_count": null,
   "metadata": {},
   "outputs": [],
   "source": [
    "# import libraries\n",
    "\n",
    "from lsfb_dataset.utils.download.dataset_downloader import DatasetDownloader\n"
   ]
  },
  {
   "cell_type": "code",
   "execution_count": null,
   "metadata": {},
   "outputs": [],
   "source": [
    "# download dataset\n",
    "\n",
    "destination_folder = './path/to/your/datasets/folder'\n",
    "\n",
    "dataset = DatasetDownloader(destination_folder, dataset = \"isol\", include_video = True)\n",
    "dataset.download()\n"
   ]
  }
 ],
 "metadata": {
  "language_info": {
   "name": "python"
  },
  "orig_nbformat": 4
 },
 "nbformat": 4,
 "nbformat_minor": 2
}
