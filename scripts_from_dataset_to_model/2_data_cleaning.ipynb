{
 "cells": [
  {
   "cell_type": "code",
   "execution_count": null,
   "metadata": {},
   "outputs": [],
   "source": [
    "# 2_data_cleaning\n",
    "\n",
    "# get dataframes created in 0_video_processing\n",
    "# check for the presence of NaNs\n",
    "# drop rows that contain NaNs\n",
    "# save cleaned data"
   ]
  },
  {
   "cell_type": "code",
   "execution_count": null,
   "metadata": {},
   "outputs": [],
   "source": [
    "# import libraries\n",
    "\n",
    "import os\n",
    "\n",
    "import pandas as pd"
   ]
  },
  {
   "cell_type": "code",
   "execution_count": null,
   "metadata": {},
   "outputs": [],
   "source": [
    "# drop rows that contain NaNs and save in a new directory\n",
    "\n",
    "# directory to be scanned\n",
    "path_from = \"/path_of_directory_where_dataframes_were_saved/\"\n",
    "\n",
    "# directory to save info\n",
    "path_to = \"/path_of_directory_where_cleaned_dataframes_will_be_saved/\"\n",
    "\n",
    "# scan the directory\n",
    "obj_subdir = os.scandir(path_from)\n",
    "\n",
    "count = 0\n",
    "# loop through directories\n",
    "for entry_subdir in obj_subdir:\n",
    "    if entry_subdir.is_dir():\n",
    "        obj_file = os.scandir(entry_subdir.path)\n",
    "\n",
    "        # loop through files\n",
    "        for entry_file in obj_file:\n",
    "            if entry_file.is_file() and entry_file.name.endswith(\".csv\"):\n",
    "                count += 1\n",
    "                print(count)\n",
    "\n",
    "                # get data\n",
    "                data_current = pd.read_csv(entry_file.path)\n",
    "\n",
    "                # identify rows to be dropped\n",
    "                columns_toclean = []\n",
    "                rows_todrop = []\n",
    "                for column in data_current.columns:\n",
    "                    nan_nb = data_current[column].isna().sum()\n",
    "                    if (nan_nb > 0) & (nan_nb < data_current.shape[0]):\n",
    "                        columns_toclean.append(column)\n",
    "                if len(columns_toclean) > 0:\n",
    "                    for column in columns_toclean:\n",
    "                        for i in range(data_current.shape[0]):\n",
    "                            if data_current.loc[i,\"column\"].isna():\n",
    "                                rows_todrop.append(i)\n",
    "\n",
    "                    # clean data\n",
    "                    data_current = data_current.drop(rows_todrop, index =0)\n",
    "                    # save file\n",
    "                    data_current.to_csv(path_to + entry_file.name, index = False)\n",
    "\n",
    "                else:\n",
    "                    # save file\n",
    "                    data_current.to_csv(path_to + entry_file.name, index = False)                    \n"
   ]
  },
  {
   "cell_type": "code",
   "execution_count": null,
   "metadata": {},
   "outputs": [],
   "source": []
  }
 ],
 "metadata": {
  "kernelspec": {
   "display_name": "base",
   "language": "python",
   "name": "python3"
  },
  "language_info": {
   "codemirror_mode": {
    "name": "ipython",
    "version": 3
   },
   "file_extension": ".py",
   "mimetype": "text/x-python",
   "name": "python",
   "nbconvert_exporter": "python",
   "pygments_lexer": "ipython3",
   "version": "3.8.9"
  },
  "orig_nbformat": 4,
  "vscode": {
   "interpreter": {
    "hash": "6274bd53ad02975ad3a1fc7c53468a83b5e714d6ade680c552f31a0436ec5d39"
   }
  }
 },
 "nbformat": 4,
 "nbformat_minor": 2
}
