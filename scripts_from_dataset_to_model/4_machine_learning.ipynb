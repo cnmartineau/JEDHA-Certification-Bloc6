{
 "cells": [
  {
   "cell_type": "code",
   "execution_count": null,
   "metadata": {},
   "outputs": [],
   "source": [
    "# 4_train_model\n",
    "\n",
    "# compiled data\n",
    "# process data for machine learning\n",
    "# train model\n",
    "# plot loss and metrics\n",
    "# save trained model"
   ]
  },
  {
   "cell_type": "code",
   "execution_count": null,
   "metadata": {},
   "outputs": [],
   "source": [
    "# import libraries\n",
    "\n",
    "import numpy as np\n",
    "\n",
    "from sklearn.model_selection import train_test_split\n",
    "from sklearn.preprocessing import LabelEncoder\n",
    "\n",
    "import tensorflow as tf\n",
    "from tensorflow.keras.models import Sequential\n",
    "from tensorflow.keras.layers import Masking\n",
    "from tensorflow.keras.layers import GRU\n",
    "from tensorflow.keras.layers import Dropout\n",
    "from tensorflow.keras.layers import Dense\n",
    "from tensorflow.keras.layers import BatchNormalization\n",
    "from tensorflow.keras.layers import ReLU, Softmax\n",
    "from tensorflow.keras.activations import *\n",
    "from tensorflow.keras.losses import SparseCategoricalCrossentropy\n",
    "from tensorflow.keras.metrics import SparseCategoricalAccuracy\n",
    "from tensorflow.keras.optimizers.schedules import ExponentialDecay\n",
    "from tensorflow.keras.optimizers import Adam\n",
    "\n",
    "from plotly import graph_objects as go"
   ]
  },
  {
   "cell_type": "code",
   "execution_count": null,
   "metadata": {},
   "outputs": [],
   "source": [
    "# load data\n",
    "\n",
    "# directory were compiled data was saved\n",
    "path_from = \"/path_of_directory_where_compiled data_was_saved/\"\n",
    "\n",
    "# load data\n",
    "data = np.load(path_from + \"data.npy\")\n",
    "labels = np.load(path_from + \"labels.npy\")"
   ]
  },
  {
   "cell_type": "code",
   "execution_count": null,
   "metadata": {},
   "outputs": [],
   "source": [
    "# reshape data to get a 3d array and 1 label per video\n",
    "\n",
    "data = data.reshape(int(data.shape[0]/50), 50, 1659)\n",
    "labels = labels[::50]"
   ]
  },
  {
   "cell_type": "code",
   "execution_count": null,
   "metadata": {},
   "outputs": [],
   "source": [
    "# process data for machine learning\n",
    "\n",
    "# Split 80% in train 10% in val 10% in test\n",
    "X_train, X_valtest, y_train, y_valtest = train_test_split(data,\n",
    "                                                          labels,\n",
    "                                                          test_size=0.2,\n",
    "                                                          stratify=labels)\n",
    "X_val, X_test, y_val, y_test = train_test_split(X_valtest, y_valtest,\n",
    "                                                test_size=0.5,\n",
    "                                                stratify=y_valtest)\n",
    "\n",
    "# encode labels\n",
    "encoder = LabelEncoder()\n",
    "y_train = encoder.fit_transform(y_train)\n",
    "y_val = encoder.transform(y_val)\n",
    "y_test = encoder.transform(y_test)"
   ]
  },
  {
   "cell_type": "code",
   "execution_count": null,
   "metadata": {},
   "outputs": [],
   "source": [
    "# make tensors\n",
    "\n",
    "train_ds = tf.data.Dataset.from_tensor_slices((X_train, y_train))\n",
    "val_ds = tf.data.Dataset.from_tensor_slices((X_val, y_val))\n",
    "test_ds = tf.data.Dataset.from_tensor_slices((X_test, y_test))"
   ]
  },
  {
   "cell_type": "code",
   "execution_count": null,
   "metadata": {},
   "outputs": [],
   "source": [
    "# shuffle and batch\n",
    "\n",
    "train_ds = train_ds.shuffle(data.shape[0]).batch(512)\n",
    "val_ds = val_ds.batch(512)\n",
    "test_ds = test_ds.batch(512)"
   ]
  },
  {
   "cell_type": "code",
   "execution_count": null,
   "metadata": {},
   "outputs": [],
   "source": [
    "# create model\n",
    "\n",
    "model = Sequential([\n",
    "    Masking(mask_value = 0),\n",
    "    GRU(128, return_sequences = True),\n",
    "    Dropout(0.2),\n",
    "    Dense(128, \"relu\"),\n",
    "    GRU(64, return_sequences = True),\n",
    "    Dropout(0.2),\n",
    "    Dense(64, \"relu\"),\n",
    "    GRU(32, return_sequences = False),\n",
    "    BatchNormalization(),\n",
    "    Dense(32, \"relu\"),\n",
    "    Dense(len(np.unique(labels)), \"softmax\")\n",
    "])"
   ]
  },
  {
   "cell_type": "code",
   "execution_count": null,
   "metadata": {},
   "outputs": [],
   "source": [
    "# compile model\n",
    "\n",
    "ed = ExponentialDecay(\n",
    "    initial_learning_rate = 0.0008, \n",
    "    decay_steps = 10, \n",
    "    decay_rate = 0.98)\n",
    "\n",
    "optimizer = Adam(learning_rate = ed)\n",
    "\n",
    "model.compile(\n",
    "    optimizer,\n",
    "    loss = SparseCategoricalCrossentropy(),\n",
    "    metrics = [SparseCategoricalAccuracy()])"
   ]
  },
  {
   "cell_type": "code",
   "execution_count": null,
   "metadata": {},
   "outputs": [],
   "source": [
    "# train model\n",
    "\n",
    "history = model.fit(train_ds, epochs = 50, validation_data = val_ds)"
   ]
  },
  {
   "cell_type": "code",
   "execution_count": null,
   "metadata": {},
   "outputs": [],
   "source": [
    "# save model\n",
    "\n",
    "model.save(\"/path_were_the_model_should_be_saved/model_date_epochnumber.h5\")"
   ]
  },
  {
   "cell_type": "code",
   "execution_count": null,
   "metadata": {},
   "outputs": [],
   "source": [
    "# set color chart\n",
    "\n",
    "color_chart = [\"#4B9AC7\", \"#4BE8E0\", \"#9DD4F3\", \"#97FBF6\", \"#2A7FAF\", \"#23B1AB\", \"#0E3449\", \"#015955\"]"
   ]
  },
  {
   "cell_type": "code",
   "execution_count": null,
   "metadata": {},
   "outputs": [],
   "source": [
    "# plot loss\n",
    "\n",
    "fig = go.Figure(data=[\n",
    "                      go.Scatter(\n",
    "                          y=history.history[\"loss\"],\n",
    "                          name=\"Training loss\",\n",
    "                          mode=\"lines\",\n",
    "                          marker=dict(\n",
    "                              color=color_chart[0]\n",
    "                          )),\n",
    "                      go.Scatter(\n",
    "                          y=history.history[\"val_loss\"],\n",
    "                          name=\"Validation loss\",\n",
    "                          mode=\"lines\",\n",
    "                          marker=dict(\n",
    "                              color=color_chart[1]\n",
    "                          ))\n",
    "])\n",
    "fig.update_layout(\n",
    "    title='Training and val loss across epochs',\n",
    "    xaxis_title='epochs',\n",
    "    yaxis_title='Cross Entropy'    \n",
    ")\n",
    "fig.show()"
   ]
  },
  {
   "cell_type": "code",
   "execution_count": null,
   "metadata": {},
   "outputs": [],
   "source": [
    "# plot accuracy\n",
    "\n",
    "fig = go.Figure(data=[\n",
    "                      go.Scatter(\n",
    "                          y=history.history[\"sparse_categorical_accuracy\"],\n",
    "                          name=\"Training accuracy\",\n",
    "                          mode=\"lines\",\n",
    "                          marker=dict(\n",
    "                              color=color_chart[4]\n",
    "                          )),\n",
    "                      go.Scatter(\n",
    "                          y=history.history[\"val_sparse_categorical_accuracy\"],\n",
    "                          name=\"Validation accruracy\",\n",
    "                          mode=\"lines\",\n",
    "                          marker=dict(\n",
    "                              color=color_chart[5]\n",
    "                          ))\n",
    "])\n",
    "fig.update_layout(\n",
    "    title='Training and val accuracy across epochs',\n",
    "    xaxis_title='epochs',\n",
    "    yaxis_title='Accuracy'    \n",
    ")\n",
    "fig.show()"
   ]
  },
  {
   "cell_type": "code",
   "execution_count": null,
   "metadata": {},
   "outputs": [],
   "source": []
  }
 ],
 "metadata": {
  "kernelspec": {
   "display_name": "base",
   "language": "python",
   "name": "python3"
  },
  "language_info": {
   "codemirror_mode": {
    "name": "ipython",
    "version": 3
   },
   "file_extension": ".py",
   "mimetype": "text/x-python",
   "name": "python",
   "nbconvert_exporter": "python",
   "pygments_lexer": "ipython3",
   "version": "3.9.13"
  },
  "orig_nbformat": 4,
  "vscode": {
   "interpreter": {
    "hash": "6274bd53ad02975ad3a1fc7c53468a83b5e714d6ade680c552f31a0436ec5d39"
   }
  }
 },
 "nbformat": 4,
 "nbformat_minor": 2
}
